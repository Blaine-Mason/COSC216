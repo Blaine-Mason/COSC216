{
 "cells": [
  {
   "cell_type": "markdown",
   "metadata": {},
   "source": [
    "Blaine Mason\n",
    "\n",
    "MATH 216 Lab-1\n",
    "\n",
    "Lab 1: Descriptive Statistics and Graphs\n",
    "\n",
    "---"
   ]
  },
  {
   "cell_type": "markdown",
   "metadata": {
    "tags": []
   },
   "source": [
    "#### Purpose: The purpose of this lab assignment is to begin to understand what statistical inference is; display data about a sample of population and make conclusions about the population based on those samples.  For example the correlation between gender and likelihood to smoke.\n",
    "\n",
    "#### Introduction: The data for today’s lab assignment has students in an introductory statistics course. Each student recorded his or her height, weight, gender, smoking preference, usual activity level, and resting pulse. Then they all flipped coins, and those whose coins came up heads ran in place for one minute. Then the entire class recorded their pulses once more.  \n",
    "\n",
    "#### We see that there will need to be some preprocessing since certain values in the table hold numerical values to represent labels.  For instance, in the \"Smokes\" column; one represents \"smokes regularly\" and two represents \"does not smoke regularly\". To make visualizations such as the pie chart, we need to map those values from integers to their respective labels.  \n",
    "\n",
    "#### We perform analysis on the distribution of height and weight based on gender. We then group the smoking data with gender and format the results into a bar graph.\n",
    "\n",
    "---"
   ]
  },
  {
   "cell_type": "code",
   "execution_count": 2,
   "metadata": {},
   "outputs": [],
   "source": [
    "import pandas as pd\n",
    "import numpy as np\n",
    "import matplotlib.pyplot as plt\n",
    "plt.rcParams[\"figure.figsize\"] = [10, 5]"
   ]
  },
  {
   "cell_type": "markdown",
   "metadata": {},
   "source": [
    "In order to get the data from a minitab format we needed to export the data from minitab as a .xlsx so pandas can read the table in."
   ]
  },
  {
   "cell_type": "code",
   "execution_count": 4,
   "metadata": {},
   "outputs": [],
   "source": [
    "data = pd.read_excel(\"Pulse.xlsx\",converters={'Gender':str})"
   ]
  },
  {
   "cell_type": "markdown",
   "metadata": {},
   "source": [
    "We display the first five rows of the data"
   ]
  },
  {
   "cell_type": "code",
   "execution_count": 5,
   "metadata": {},
   "outputs": [
    {
     "data": {
      "text/html": [
       "<div>\n",
       "<style scoped>\n",
       "    .dataframe tbody tr th:only-of-type {\n",
       "        vertical-align: middle;\n",
       "    }\n",
       "\n",
       "    .dataframe tbody tr th {\n",
       "        vertical-align: top;\n",
       "    }\n",
       "\n",
       "    .dataframe thead th {\n",
       "        text-align: right;\n",
       "    }\n",
       "</style>\n",
       "<table border=\"1\" class=\"dataframe\">\n",
       "  <thead>\n",
       "    <tr style=\"text-align: right;\">\n",
       "      <th></th>\n",
       "      <th>Pulse1</th>\n",
       "      <th>Pulse2</th>\n",
       "      <th>Ran</th>\n",
       "      <th>Smokes</th>\n",
       "      <th>Gender</th>\n",
       "      <th>Height</th>\n",
       "      <th>Weight</th>\n",
       "      <th>Activity</th>\n",
       "    </tr>\n",
       "  </thead>\n",
       "  <tbody>\n",
       "    <tr>\n",
       "      <th>0</th>\n",
       "      <td>64</td>\n",
       "      <td>88</td>\n",
       "      <td>1</td>\n",
       "      <td>2</td>\n",
       "      <td>Male</td>\n",
       "      <td>66.0</td>\n",
       "      <td>140</td>\n",
       "      <td>2</td>\n",
       "    </tr>\n",
       "    <tr>\n",
       "      <th>1</th>\n",
       "      <td>58</td>\n",
       "      <td>70</td>\n",
       "      <td>1</td>\n",
       "      <td>2</td>\n",
       "      <td>Male</td>\n",
       "      <td>72.0</td>\n",
       "      <td>145</td>\n",
       "      <td>2</td>\n",
       "    </tr>\n",
       "    <tr>\n",
       "      <th>2</th>\n",
       "      <td>62</td>\n",
       "      <td>76</td>\n",
       "      <td>1</td>\n",
       "      <td>1</td>\n",
       "      <td>Male</td>\n",
       "      <td>73.5</td>\n",
       "      <td>160</td>\n",
       "      <td>3</td>\n",
       "    </tr>\n",
       "    <tr>\n",
       "      <th>3</th>\n",
       "      <td>66</td>\n",
       "      <td>78</td>\n",
       "      <td>1</td>\n",
       "      <td>1</td>\n",
       "      <td>Male</td>\n",
       "      <td>73.0</td>\n",
       "      <td>190</td>\n",
       "      <td>1</td>\n",
       "    </tr>\n",
       "    <tr>\n",
       "      <th>4</th>\n",
       "      <td>64</td>\n",
       "      <td>80</td>\n",
       "      <td>1</td>\n",
       "      <td>2</td>\n",
       "      <td>Male</td>\n",
       "      <td>69.0</td>\n",
       "      <td>155</td>\n",
       "      <td>2</td>\n",
       "    </tr>\n",
       "  </tbody>\n",
       "</table>\n",
       "</div>"
      ],
      "text/plain": [
       "   Pulse1  Pulse2  Ran  Smokes Gender  Height  Weight  Activity\n",
       "0      64      88    1       2   Male    66.0     140         2\n",
       "1      58      70    1       2   Male    72.0     145         2\n",
       "2      62      76    1       1   Male    73.5     160         3\n",
       "3      66      78    1       1   Male    73.0     190         1\n",
       "4      64      80    1       2   Male    69.0     155         2"
      ]
     },
     "execution_count": 5,
     "metadata": {},
     "output_type": "execute_result"
    }
   ],
   "source": [
    "data.head()"
   ]
  },
  {
   "cell_type": "markdown",
   "metadata": {},
   "source": [
    "# Descriptive Statistics"
   ]
  },
  {
   "cell_type": "markdown",
   "metadata": {},
   "source": [
    "Below we will describe the height and weight of the students:"
   ]
  },
  {
   "cell_type": "code",
   "execution_count": 36,
   "metadata": {},
   "outputs": [
    {
     "data": {
      "text/html": [
       "<div>\n",
       "<style scoped>\n",
       "    .dataframe tbody tr th:only-of-type {\n",
       "        vertical-align: middle;\n",
       "    }\n",
       "\n",
       "    .dataframe tbody tr th {\n",
       "        vertical-align: top;\n",
       "    }\n",
       "\n",
       "    .dataframe thead th {\n",
       "        text-align: right;\n",
       "    }\n",
       "</style>\n",
       "<table border=\"1\" class=\"dataframe\">\n",
       "  <thead>\n",
       "    <tr style=\"text-align: right;\">\n",
       "      <th></th>\n",
       "      <th>count</th>\n",
       "      <th>mean</th>\n",
       "      <th>std</th>\n",
       "      <th>min</th>\n",
       "      <th>25%</th>\n",
       "      <th>50%</th>\n",
       "      <th>75%</th>\n",
       "      <th>max</th>\n",
       "    </tr>\n",
       "  </thead>\n",
       "  <tbody>\n",
       "    <tr>\n",
       "      <th>Height</th>\n",
       "      <td>92.0</td>\n",
       "      <td>68.717391</td>\n",
       "      <td>3.659291</td>\n",
       "      <td>61.0</td>\n",
       "      <td>66.0</td>\n",
       "      <td>69.0</td>\n",
       "      <td>72.0</td>\n",
       "      <td>75.0</td>\n",
       "    </tr>\n",
       "    <tr>\n",
       "      <th>Weight</th>\n",
       "      <td>92.0</td>\n",
       "      <td>145.152174</td>\n",
       "      <td>23.739398</td>\n",
       "      <td>95.0</td>\n",
       "      <td>125.0</td>\n",
       "      <td>145.0</td>\n",
       "      <td>155.5</td>\n",
       "      <td>215.0</td>\n",
       "    </tr>\n",
       "  </tbody>\n",
       "</table>\n",
       "</div>"
      ],
      "text/plain": [
       "        count        mean        std   min    25%    50%    75%    max\n",
       "Height   92.0   68.717391   3.659291  61.0   66.0   69.0   72.0   75.0\n",
       "Weight   92.0  145.152174  23.739398  95.0  125.0  145.0  155.5  215.0"
      ]
     },
     "execution_count": 36,
     "metadata": {},
     "output_type": "execute_result"
    }
   ],
   "source": [
    "data[[\"Height\", \"Weight\"]].describe().T"
   ]
  },
  {
   "cell_type": "markdown",
   "metadata": {},
   "source": [
    "From the table above we can see the mean Height and Weight are 68.72in and 145.15lbs respectively."
   ]
  },
  {
   "cell_type": "code",
   "execution_count": 9,
   "metadata": {},
   "outputs": [
    {
     "name": "stdout",
     "output_type": "stream",
     "text": [
      "Average Height = 68.72\n",
      "Average Weight = 145.15\n"
     ]
    }
   ],
   "source": [
    "print(f'Average Height = {np.mean(data[[\"Height\"]])[0]:.2f}')\n",
    "print(f'Average Weight = {np.mean(data[[\"Weight\"]])[0]:.2f}')"
   ]
  },
  {
   "cell_type": "markdown",
   "metadata": {},
   "source": [
    "Now with respect to gender:"
   ]
  },
  {
   "cell_type": "code",
   "execution_count": 10,
   "metadata": {},
   "outputs": [],
   "source": [
    "male_data = data[data[\"Gender\"] == \"Male\"]\n",
    "female_data = data[data[\"Gender\"] == \"Female\"]"
   ]
  },
  {
   "cell_type": "code",
   "execution_count": 28,
   "metadata": {
    "tags": []
   },
   "outputs": [
    {
     "name": "stdout",
     "output_type": "stream",
     "text": [
      "=======================================================================\n",
      "Male Height Data\n",
      "        count       mean       std   min   25%   50%   75%   max\n",
      "Height   57.0  70.754386  2.582777  66.0  69.0  71.0  73.0  75.0\n",
      "\n",
      "Male Weight Data\n",
      "        count        mean        std    min    25%    50%    75%    max\n",
      "Weight   57.0  158.263158  18.636108  123.0  145.0  155.0  170.0  215.0\n",
      "=======================================================================\n",
      "Female Height Data\n",
      "        count  mean       std   min   25%   50%   75%   max\n",
      "Height   35.0  65.4  2.562599  61.0  63.0  65.5  68.0  70.0\n",
      "\n",
      "Female Weight Data\n",
      "        count   mean        std   min    25%    50%    75%    max\n",
      "Weight   35.0  123.8  13.372052  95.0  115.5  122.0  130.5  150.0\n",
      "=======================================================================\n"
     ]
    }
   ],
   "source": [
    "print(\"=======================================================================\")\n",
    "print(\"Male Height Data\")\n",
    "print(male_data[[\"Height\"]].describe().T)\n",
    "print(\"\\nMale Weight Data\")\n",
    "print(male_data[[\"Weight\"]].describe().T)\n",
    "print(\"=======================================================================\")\n",
    "print(\"Female Height Data\")\n",
    "print(female_data[[\"Height\"]].describe().T)\n",
    "print(\"\\nFemale Weight Data\")\n",
    "print(female_data[[\"Weight\"]].describe().T)\n",
    "print(\"=======================================================================\")"
   ]
  },
  {
   "cell_type": "code",
   "execution_count": 29,
   "metadata": {},
   "outputs": [
    {
     "name": "stdout",
     "output_type": "stream",
     "text": [
      "===================================\n",
      "Average Height of Male = 70.75\n",
      "Average Weight of Male = 158.26\n",
      "===================================\n",
      "Average Height of Female = 65.40\n",
      "Average Weight of female = 123.80\n",
      "===================================\n"
     ]
    }
   ],
   "source": [
    "print('===================================')\n",
    "print(f'Average Height of Male = {np.mean(male_data[[\"Height\"]])[0]:.2f}')\n",
    "print(f'Average Weight of Male = {np.mean(male_data[[\"Weight\"]])[0]:.2f}')\n",
    "print('===================================')\n",
    "print(f'Average Height of Female = {np.mean(female_data[[\"Height\"]])[0]:.2f}')\n",
    "print(f'Average Weight of female = {np.mean(female_data[[\"Weight\"]])[0]:.2f}')\n",
    "print('===================================')"
   ]
  },
  {
   "cell_type": "markdown",
   "metadata": {},
   "source": [
    "Below we will display the 5 most frequent heights and weights with their counts "
   ]
  },
  {
   "cell_type": "code",
   "execution_count": 31,
   "metadata": {},
   "outputs": [
    {
     "name": "stdout",
     "output_type": "stream",
     "text": [
      "Most frequent Height and number of students with that Height respectively:\n"
     ]
    },
    {
     "data": {
      "text/plain": [
       "Height\n",
       "68.0      10\n",
       "69.0      10\n",
       "72.0       8\n",
       "66.0       8\n",
       "73.0       7\n",
       "dtype: int64"
      ]
     },
     "execution_count": 31,
     "metadata": {},
     "output_type": "execute_result"
    }
   ],
   "source": [
    "print(\"Most frequent Height and number of students with that Height respectively:\")\n",
    "data[[\"Height\"]].value_counts()[:5]"
   ]
  },
  {
   "cell_type": "code",
   "execution_count": 32,
   "metadata": {},
   "outputs": [
    {
     "name": "stdout",
     "output_type": "stream",
     "text": [
      "Most frequent Weight and number of students with that Weight respectively:\n"
     ]
    },
    {
     "data": {
      "text/plain": [
       "Weight\n",
       "150       10\n",
       "155       10\n",
       "145        5\n",
       "130        5\n",
       "125        5\n",
       "dtype: int64"
      ]
     },
     "execution_count": 32,
     "metadata": {},
     "output_type": "execute_result"
    }
   ],
   "source": [
    "print(\"Most frequent Weight and number of students with that Weight respectively:\")\n",
    "data[[\"Weight\"]].value_counts()[:5]"
   ]
  },
  {
   "cell_type": "markdown",
   "metadata": {},
   "source": [
    "# Quantitative Data Graphs"
   ]
  },
  {
   "cell_type": "code",
   "execution_count": 42,
   "metadata": {},
   "outputs": [
    {
     "data": {
      "image/png": "[encoded data removed]",
      "text/plain": [
       "<Figure size 720x360 with 2 Axes>"
      ]
     },
     "metadata": {
      "needs_background": "light"
     },
     "output_type": "display_data"
    }
   ],
   "source": [
    "height_weight = data[[\"Height\", \"Weight\"]]\n",
    "fig, (ax1, ax2) = plt.subplots(1, 2)\n",
    "fig.suptitle('Blaine Mason', fontsize=16)\n",
    "height_weight[[\"Height\"]].hist('Height', ax=ax1, bins=15, color=\"b\", alpha=.7)\n",
    "height_weight[[\"Weight\"]].hist('Weight', ax=ax2, bins=15, color=\"r\", alpha=.7)\n",
    "ax1.grid(b=False)\n",
    "ax2.grid(b=False)\n",
    "plt.show()"
   ]
  },
  {
   "cell_type": "markdown",
   "metadata": {},
   "source": [
    "Based on the notes we took in class, since we are working with more 92 samples we chose to use 15 bins for my histograms.  This allows me to see similar results as the frequency tables, but if we were to use less bins we would not see the same results."
   ]
  },
  {
   "cell_type": "code",
   "execution_count": 39,
   "metadata": {},
   "outputs": [
    {
     "data": {
      "image/png": "[encoded data removed]",
      "text/plain": [
       "<PIL.PngImagePlugin.PngImageFile image mode=RGBA size=576x384 at 0x7F7790055BE0>"
      ]
     },
     "metadata": {},
     "output_type": "display_data"
    },
    {
     "data": {
      "image/png": "[encoded data removed]",
      "text/plain": [
       "<PIL.PngImagePlugin.PngImageFile image mode=RGBA size=576x384 at 0x7F7790055520>"
      ]
     },
     "metadata": {},
     "output_type": "display_data"
    }
   ],
   "source": [
    "from PIL import Image\n",
    "display(Image.open('plots/Dotplot of Height.png'))\n",
    "display(Image.open('plots/Dotplot of Weight.png'))"
   ]
  },
  {
   "cell_type": "markdown",
   "metadata": {},
   "source": [
    "The dot plots do appear similar to the histograms above. This would be due to the fact that dot plots are displaying in a strictly categorical fashion. If one were to increase the bin size of the histograms there would be a convergence to mirror the dot plots."
   ]
  },
  {
   "cell_type": "code",
   "execution_count": 40,
   "metadata": {},
   "outputs": [
    {
     "data": {
      "image/png": "[encoded data removed]",
      "text/plain": [
       "<PIL.PngImagePlugin.PngImageFile image mode=RGBA size=576x384 at 0x7F77900557F0>"
      ]
     },
     "metadata": {},
     "output_type": "display_data"
    },
    {
     "data": {
      "image/png": "[encoded data removed]",
      "text/plain": [
       "<PIL.PngImagePlugin.PngImageFile image mode=RGBA size=576x384 at 0x7F77A24365E0>"
      ]
     },
     "metadata": {},
     "output_type": "display_data"
    }
   ],
   "source": [
    "display(Image.open('plots/Dotplot of HeightG.png'))\n",
    "display(Image.open('plots/Dotplot of WeightG.png'))"
   ]
  },
  {
   "cell_type": "markdown",
   "metadata": {},
   "source": [
    "We know that height and weight is often found to be normally distributed.  In these two dot plots we see that these both take a shape of a distribution that has data mostly around the mean and a small number in the tails.  The difference I see between male and female is the mean for female height and weight is less than the mean for male height and weight."
   ]
  },
  {
   "cell_type": "markdown",
   "metadata": {},
   "source": [
    "# Qualitative Data graphs"
   ]
  },
  {
   "cell_type": "markdown",
   "metadata": {},
   "source": [
    "We would claim that gender is nominal data since it is \"named\" data, but we cannot place it in any particluar order.  Smoking habits is an example of ordinal data since there is a description of the habits, but can be placed in order.  For example: \"Smokes very little\", \"Smokes sometimes\", \"Smokes\", \"Smokes regularly\", \"Smokes very often\". "
   ]
  },
  {
   "cell_type": "code",
   "execution_count": 64,
   "metadata": {},
   "outputs": [
    {
     "data": {
      "image/png": "[encoded data removed]",
      "text/plain": [
       "<Figure size 432x288 with 1 Axes>"
      ]
     },
     "metadata": {},
     "output_type": "display_data"
    }
   ],
   "source": [
    "genders = data[[\"Gender\"]].value_counts()\n",
    "labels=[\"Male\", \"Female\"]\n",
    "plt.pie(genders,labels=labels, autopct='%1.1f%%');"
   ]
  },
  {
   "cell_type": "code",
   "execution_count": 70,
   "metadata": {},
   "outputs": [
    {
     "data": {
      "image/png": "[encoded data removed]",
      "text/plain": [
       "<Figure size 432x288 with 1 Axes>"
      ]
     },
     "metadata": {},
     "output_type": "display_data"
    }
   ],
   "source": [
    "smokes = data[[\"Smokes\"]].value_counts()\n",
    "labels=[\"Doesn't Smoke Regularly\", \"Smokes Regularly\"]\n",
    "plt.pie(genders,labels=labels, autopct='%1.1f%%');"
   ]
  },
  {
   "cell_type": "code",
   "execution_count": 155,
   "metadata": {},
   "outputs": [
    {
     "data": {
      "image/png": "[encoded data removed]",
      "text/plain": [
       "<Figure size 720x360 with 1 Axes>"
      ]
     },
     "metadata": {
      "needs_background": "light"
     },
     "output_type": "display_data"
    }
   ],
   "source": [
    "fig, ax = plt.subplots()\n",
    "plt.title('Blaine Mason', fontsize=16)\n",
    "ax.bar(x=labels, height=[data[\"Smokes\"].value_counts().iloc[0],data[\"Smokes\"].value_counts().iloc[1]]);"
   ]
  },
  {
   "cell_type": "markdown",
   "metadata": {},
   "source": [
    "The bar graph without the y-axis would show proportions mainly, but we would argue both the pie chart and bar graphs without labels would describe percentage by showing proportions."
   ]
  },
  {
   "cell_type": "code",
   "execution_count": 153,
   "metadata": {},
   "outputs": [
    {
     "data": {
      "image/png": "[encoded data removed]",
      "text/plain": [
       "<Figure size 720x360 with 1 Axes>"
      ]
     },
     "metadata": {
      "needs_background": "light"
     },
     "output_type": "display_data"
    }
   ],
   "source": [
    "X_axis = np.arange(len(labels))\n",
    "plt.bar(X_axis, height=[male_data[\"Smokes\"].value_counts().iloc[0],male_data[\"Smokes\"].value_counts().iloc[1]], width=0.3, label=\"Male\")\n",
    "plt.bar(X_axis + .3, height=[female_data[\"Smokes\"].value_counts().iloc[0],female_data[\"Smokes\"].value_counts().iloc[1]], width=0.3, label=\"Female\")\n",
    "plt.xticks(X_axis + .2/2, labels)\n",
    "plt.legend()\n",
    "plt.title(\"Blaine Mason\", fontsize=16)\n",
    "plt.show()"
   ]
  },
  {
   "cell_type": "markdown",
   "metadata": {},
   "source": [
    "From the bar graph above we can see 20 Males smoke regularly and 27 Females do not smoke regularly. I am unsure we can make a conclusion since the number of females and makes differ greatly."
   ]
  }
 ],
 "metadata": {
  "kernelspec": {
   "display_name": "Python 3 (ipykernel)",
   "language": "python",
   "name": "python3"
  },
  "language_info": {
   "codemirror_mode": {
    "name": "ipython",
    "version": 3
   },
   "file_extension": ".py",
   "mimetype": "text/x-python",
   "name": "python",
   "nbconvert_exporter": "python",
   "pygments_lexer": "ipython3",
   "version": "3.9.7"
  }
 },
 "nbformat": 4,
 "nbformat_minor": 4
}
